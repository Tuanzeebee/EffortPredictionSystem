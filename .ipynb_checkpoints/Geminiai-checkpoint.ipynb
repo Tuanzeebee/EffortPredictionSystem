{
 "cells": [
  {
   "cell_type": "code",
   "execution_count": null,
   "id": "c6ab3f47-ef50-4e5a-bc0b-0c75e234d89c",
   "metadata": {},
   "outputs": [],
   "source": []
  }
 ],
 "metadata": {
  "kernelspec": {
   "display_name": "Python 3 (ipykernel)",
   "language": "python",
   "name": "python3"
  },
  "language_info": {
   "codemirror_mode": {
    "name": "ipython",
    "version": 3
   },
   "file_extension": ".py",
   "mimetype": "text/x-python",
   "name": "python",
   "nbconvert_exporter": "python",
   "pygments_lexer": "ipython3",
   "version": "3.9.9"
  }
 },
 "nbformat": 4,
 "nbformat_minor": 5
}
