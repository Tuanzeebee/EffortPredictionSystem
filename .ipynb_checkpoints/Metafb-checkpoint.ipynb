{
 "cells": [
  {
   "cell_type": "code",
   "execution_count": null,
   "id": "835e95f1-93c9-4d68-8918-5592ddbfcfe6",
   "metadata": {},
   "outputs": [],
   "source": [
    "# Import thư viện pandas\n",
    "import pandas as pd\n",
    "\n",
    "# Tải dữ liệu từ file Excel \"Book1.csv\"\n",
    "data = pd.read_csv(\"Book1.csv\")\n",
    "\n",
    "# Hiển thị thông tin cơ bản về DataFrame\n",
    "print(\"Thông tin cơ bản về DataFrame:\")\n",
    "print(data.info())\n",
    "\n",
    "# Hiển thị thống kê mô tả cho các cột số\n",
    "print(\"\\nThống kê mô tả cho các cột số:\")\n",
    "print(data.describe())\n",
    "\n",
    "# Kiểm tra và báo cáo số lượng giá trị thiếu (missing values) trong mỗi cột\n",
    "print(\"\\nSố lượng giá trị thiếu trong mỗi cột:\")\n",
    "print(data.isnull().sum())\n",
    "\n",
    "# Xác định các cột có thể liên quan đến đặc trưng đầu vào và cột mục tiêu\n",
    "columns = data.columns.tolist()\n",
    "input_features = [\n",
    "    'Architecture', 'Application Type', 'Development Type', 'Development Platform',\n",
    "    'Language Type', 'Relative Size', 'Used Methodology', 'Agile Method Used',\n",
    "    'Resource Level', 'Package Customisation', 'Industry Sector', 'Project Elapsed Time',\n",
    "    'Project Inactive Time', 'Duration', 'LOC'\n",
    "]\n",
    "target_column = 'Effort'\n",
    "print(f\"\\nCác cột đặc trưng đầu vào: {input_features}\")\n",
    "print(f\"Cột mục tiêu: {target_column}\")"
   ]
  }
 ],
 "metadata": {
  "kernelspec": {
   "display_name": "Python 3 (ipykernel)",
   "language": "python",
   "name": "python3"
  },
  "language_info": {
   "codemirror_mode": {
    "name": "ipython",
    "version": 3
   },
   "file_extension": ".py",
   "mimetype": "text/x-python",
   "name": "python",
   "nbconvert_exporter": "python",
   "pygments_lexer": "ipython3",
   "version": "3.9.9"
  }
 },
 "nbformat": 4,
 "nbformat_minor": 5
}
